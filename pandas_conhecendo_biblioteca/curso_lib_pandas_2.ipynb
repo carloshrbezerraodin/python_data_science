{
 "cells": [
  {
   "cell_type": "code",
   "execution_count": 10,
   "id": "e38e0f28-d8af-48fa-8305-d7dd3ea4545e",
   "metadata": {},
   "outputs": [
    {
     "data": {
      "text/plain": [
       "Tipo          0\n",
       "Bairro        0\n",
       "Quartos       0\n",
       "Vagas         0\n",
       "Suites        0\n",
       "Area          0\n",
       "Valor         0\n",
       "Condominio    0\n",
       "IPTU          0\n",
       "dtype: int64"
      ]
     },
     "execution_count": 10,
     "metadata": {},
     "output_type": "execute_result"
    }
   ],
   "source": [
    "\n",
    "import pandas as pd\n",
    "url = 'https://raw.githubusercontent.com/alura-cursos/pandas-conhecendo-a-biblioteca/main/base-de-dados/aluguel.csv'\n",
    "\n",
    "dados = pd.read_csv(url, sep=';')\n",
    "dados.head()\n",
    "dados.tail()\n",
    "\n",
    "type(dados)\n",
    "\n",
    "dados.Tipo.unique()\n",
    "\n",
    "imoveis_comerciais = ['Conjunto Comercial/Sala', \n",
    "                      'Prédio Inteiro', 'Loja/Salão', \n",
    "                      'Galpão/Depósito/Armazém', \n",
    "                      'Casa Comercial', 'Terreno Padrão',\n",
    "                      'Loja Shopping/ Ct Comercial',\n",
    "                      'Box/Garagem', 'Chácara',\n",
    "                      'Loteamento/Condomínio', 'Sítio',\n",
    "                      'Pousada/Chalé', 'Hotel', 'Indústria']\n",
    "                                            \n",
    "df = dados.query('@imoveis_comerciais not in Tipo')\n",
    "df.head()\n",
    "df.Tipo.unique()\n",
    "\n",
    "df.isnull()\n",
    "\n",
    "df.isnull().sum()\n",
    "\n",
    "df = df.fillna(0)\n",
    "\n",
    "df.isnull().sum()"
   ]
  },
  {
   "cell_type": "code",
   "execution_count": 30,
   "id": "36fa9838-0b32-41ec-b206-d73712d2a3c8",
   "metadata": {},
   "outputs": [],
   "source": [
    "#Removendo registros\n",
    "\n",
    "registros_a_remover  = df.query('Valor == 0 | Condominio == 0').index\n",
    "\n",
    "df.drop(registros_a_remover, axis=0, inplace=True)\n",
    "\n",
    "registros_a_remover  = df.query('Valor == 0 | Condominio == 0')\n"
   ]
  },
  {
   "cell_type": "code",
   "execution_count": null,
   "id": "9339490c-3611-4b82-bc46-af34a9d27094",
   "metadata": {},
   "outputs": [],
   "source": []
  }
 ],
 "metadata": {
  "kernelspec": {
   "display_name": "Python 3 (ipykernel)",
   "language": "python",
   "name": "python3"
  },
  "language_info": {
   "codemirror_mode": {
    "name": "ipython",
    "version": 3
   },
   "file_extension": ".py",
   "mimetype": "text/x-python",
   "name": "python",
   "nbconvert_exporter": "python",
   "pygments_lexer": "ipython3",
   "version": "3.12.4"
  }
 },
 "nbformat": 4,
 "nbformat_minor": 5
}
