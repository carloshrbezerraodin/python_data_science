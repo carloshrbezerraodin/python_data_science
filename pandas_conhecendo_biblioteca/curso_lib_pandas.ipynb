{
 "cells": [
  {
   "cell_type": "code",
   "execution_count": null,
   "id": "ff676c54-a93a-4990-831d-3f62e174b337",
   "metadata": {},
   "outputs": [],
   "source": [
    "import pandas as pd\n",
    "url = 'https://raw.githubusercontent.com/alura-cursos/pandas-conhecendo-a-biblioteca/main/base-de-dados/aluguel.csv'\n",
    "\n",
    "dados = pd.read_csv(url, sep=';')\n",
    "dados.head()\n",
    "dados.tail()\n",
    "\n",
    "type(dados)"
   ]
  },
  {
   "cell_type": "code",
   "execution_count": null,
   "id": "0747a5ed-6778-46a5-9273-d91fade35d64",
   "metadata": {},
   "outputs": [],
   "source": [
    "#Caracteristicas Gerais da base de dados\n",
    "dados.shape\n",
    "dados.columns\n"
   ]
  },
  {
   "cell_type": "code",
   "execution_count": null,
   "id": "e2bc216b-134d-47ac-9c0c-6e428f2eab76",
   "metadata": {},
   "outputs": [],
   "source": [
    "dados.info()\n",
    "\n",
    "dados['Tipo']\n",
    "dados[['Quartos','Valor']]\n",
    "\n",
    "dados.describe()"
   ]
  },
  {
   "cell_type": "code",
   "execution_count": null,
   "id": "cdfc3c95-bb70-49b0-8b03-1aef9d8e1d22",
   "metadata": {},
   "outputs": [],
   "source": [
    "#Qual o valor medio de aluguel po rtipo de imovel\n",
    "\n",
    "dados['Valor'].mean()\n",
    "\n",
    "df_preco_tipo  = dados.groupby('Tipo')[['Valor']].mean(numeric_only=True).sort_values('Valor')\n",
    "\n",
    "df_preco_tipo.plot(kind='barh', figsize=(14,10), color='blue');"
   ]
  },
  {
   "cell_type": "code",
   "execution_count": null,
   "id": "afe0a5a5-f0c1-4526-bcc3-86ff9a75563d",
   "metadata": {},
   "outputs": [],
   "source": [
    "#Removendo os imoveis comercial\n",
    "\n",
    "dados.Tipo.unique()\n",
    "\n",
    "imoveis_comerciais = ['Conjunto Comercial/Sala', \n",
    "                      'Prédio Inteiro', 'Loja/Salão', \n",
    "                      'Galpão/Depósito/Armazém', \n",
    "                      'Casa Comercial', 'Terreno Padrão',\n",
    "                      'Loja Shopping/ Ct Comercial',\n",
    "                      'Box/Garagem', 'Chácara',\n",
    "                      'Loteamento/Condomínio', 'Sítio',\n",
    "                      'Pousada/Chalé', 'Hotel', 'Indústria']\n",
    "                                            \n",
    "df = dados.query('@imoveis_comerciais not in Tipo')\n",
    "df.head()\n",
    "df.Tipo.unique()"
   ]
  },
  {
   "cell_type": "code",
   "execution_count": null,
   "id": "3f53c6d3-2b4b-495d-99f4-68d4841019b2",
   "metadata": {},
   "outputs": [],
   "source": []
  },
  {
   "cell_type": "code",
   "execution_count": null,
   "id": "76a2e334-54ad-4ada-ba5e-cc40d38b3726",
   "metadata": {},
   "outputs": [],
   "source": [
    "#Qual o percentual de cada tipo de imovel presente na base de dados\n",
    "\n",
    "df.Tipo.unique()\n",
    "\n",
    "df_percentual_tipo = df.Tipo.value_counts(normalize = True).to_frame().sort_values('Tipo')\n",
    "\n",
    "df_percentual_tipo.plot(kind='bar', figsize=(14,10), color='green', xlabel='Tipos', ylabel='Percentual');\n"
   ]
  },
  {
   "cell_type": "code",
   "execution_count": null,
   "id": "80fd9720-bbae-4081-b500-9bb8751f87b6",
   "metadata": {},
   "outputs": [],
   "source": [
    "#Selecionar apenas os imvoeis do tipo apartamento\n",
    "\n",
    "df = df.query('Tipo == \"Apartamento\"')\n",
    "df.head()"
   ]
  },
  {
   "cell_type": "code",
   "execution_count": null,
   "id": "18914bd4-d876-4564-a482-f3467f90af07",
   "metadata": {},
   "outputs": [],
   "source": [
    "df.isnull()\n",
    "\n",
    "df.isnull().sum()"
   ]
  }
 ],
 "metadata": {
  "kernelspec": {
   "display_name": "Python 3 (ipykernel)",
   "language": "python",
   "name": "python3"
  },
  "language_info": {
   "codemirror_mode": {
    "name": "ipython",
    "version": 3
   },
   "file_extension": ".py",
   "mimetype": "text/x-python",
   "name": "python",
   "nbconvert_exporter": "python",
   "pygments_lexer": "ipython3",
   "version": "3.12.4"
  }
 },
 "nbformat": 4,
 "nbformat_minor": 5
}
